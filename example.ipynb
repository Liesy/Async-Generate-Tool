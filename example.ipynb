{
 "cells": [
  {
   "cell_type": "code",
   "execution_count": 2,
   "metadata": {},
   "outputs": [],
   "source": [
    "import time\n",
    "from asynic_generate import LanguageModel"
   ]
  },
  {
   "cell_type": "markdown",
   "metadata": {},
   "source": [
    "### setup your api_key"
   ]
  },
  {
   "cell_type": "code",
   "execution_count": 3,
   "metadata": {},
   "outputs": [],
   "source": [
    "api_config = {\n",
    "    \"openai\": {\n",
    "        \"base_url\": \"\",\n",
    "        \"api_key\": \"\",\n",
    "    },\n",
    "    \"anthropic\": {\n",
    "        \"base_url\": \"\",\n",
    "        \"api_key\": \"\",\n",
    "    },\n",
    "    \"Llama-3.1-8B-Instruct\": {\"base_url\": \"http://0.0.0.0:8000/v1\", \"api_key\": \"EMPTY\"},\n",
    "    \"Qwen2-7B-Instruct\": {\"base_url\": \"http://0.0.0.0:8006/v1\", \"api_key\": \"EMPTY\"},\n",
    "}"
   ]
  },
  {
   "cell_type": "code",
   "execution_count": null,
   "metadata": {},
   "outputs": [],
   "source": [
    "# llm = asynic_generate.LanguageModel(\"claude-3-haiku-20240307\", api_config)\n",
    "llm = asynic_generate.LanguageModel(\"gpt-4o-mini-2024-07-18\", api_config)"
   ]
  },
  {
   "cell_type": "markdown",
   "metadata": {},
   "source": [
    "### single query"
   ]
  },
  {
   "cell_type": "code",
   "execution_count": null,
   "metadata": {},
   "outputs": [],
   "source": [
    "text = \"what's your name\""
   ]
  },
  {
   "cell_type": "code",
   "execution_count": null,
   "metadata": {},
   "outputs": [],
   "source": [
    "start = time.time()\n",
    "ret, history = llm.get_response(text)\n",
    "during = time.time() - start\n",
    "during"
   ]
  },
  {
   "cell_type": "code",
   "execution_count": null,
   "metadata": {},
   "outputs": [],
   "source": [
    "ret"
   ]
  },
  {
   "cell_type": "code",
   "execution_count": null,
   "metadata": {},
   "outputs": [],
   "source": [
    "history"
   ]
  },
  {
   "cell_type": "markdown",
   "metadata": {},
   "source": [
    "### query list"
   ]
  },
  {
   "cell_type": "code",
   "execution_count": null,
   "metadata": {},
   "outputs": [],
   "source": [
    "texts = [\"what's your name\", \"what's the weather like in Beijing\", \"hello\"]"
   ]
  },
  {
   "cell_type": "code",
   "execution_count": null,
   "metadata": {},
   "outputs": [],
   "source": [
    "start = time.time()\n",
    "rets, historys = llm.get_response(texts)\n",
    "during = time.time() - start\n",
    "during"
   ]
  },
  {
   "cell_type": "code",
   "execution_count": null,
   "metadata": {},
   "outputs": [],
   "source": [
    "rets"
   ]
  },
  {
   "cell_type": "code",
   "execution_count": null,
   "metadata": {},
   "outputs": [],
   "source": [
    "historys"
   ]
  }
 ],
 "metadata": {
  "kernelspec": {
   "display_name": "py310torch220",
   "language": "python",
   "name": "python3"
  },
  "language_info": {
   "codemirror_mode": {
    "name": "ipython",
    "version": 3
   },
   "file_extension": ".py",
   "mimetype": "text/x-python",
   "name": "python",
   "nbconvert_exporter": "python",
   "pygments_lexer": "ipython3",
   "version": "3.10.14"
  }
 },
 "nbformat": 4,
 "nbformat_minor": 2
}
